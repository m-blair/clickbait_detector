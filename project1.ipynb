{
 "cells": [
  {
   "cell_type": "markdown",
   "source": [
    "# **CLICKBAIT CLASSIFIER**\n",
    "***\n",
    "\n",
    "[Dataset](https://www.kaggle.com/datasets/amananandrai/clickbait-dataset?select=clickbait_data.csv)"
   ],
   "metadata": {
    "collapsed": false,
    "pycharm": {
     "name": "#%% md\n"
    }
   }
  },
  {
   "cell_type": "code",
   "execution_count": 96,
   "metadata": {
    "collapsed": true,
    "pycharm": {
     "name": "#%%\n"
    }
   },
   "outputs": [],
   "source": [
    "# ML-related external modules\n",
    "import nltk\n",
    "import keras.layers\n",
    "import numpy as np\n",
    "import pandas as pd\n",
    "import matplotlib as plt\n",
    "from tensorflow import keras\n",
    "from tensorflow.keras.models import Sequential, model_from_json\n",
    "from tensorflow.keras.layers import Dense, Embedding, GlobalAvgPool1D, Dense\n",
    "from tensorflow.keras.preprocessing.text import Tokenizer\n",
    "from tensorflow.keras.preprocessing.sequence import pad_sequences\n",
    "from keras.backend import clear_session\n",
    "from sklearn.feature_extraction.text import CountVectorizer, TfidfVectorizer, TfidfTransformer\n",
    "from sklearn.model_selection import train_test_split\n",
    "from sklearn.linear_model import LogisticRegression\n",
    "from numpy import asarray\n",
    "from nltk.tokenize import word_tokenize\n",
    "from nltk.corpus import stopwords\n",
    "\n",
    "# non-ML related external modules\n",
    "import contractions\n",
    "import latexify\n",
    "\n",
    "# built-in modules\n",
    "from collections import Counter\n",
    "from importlib import reload\n",
    "import time\n",
    "import re\n",
    "import random\n",
    "import string\n",
    "from string import punctuation\n",
    "import math\n",
    "import csv\n",
    "\n",
    "#local files\n",
    "import preprocessor\n",
    "import grapher\n",
    "import encode\n",
    "import df_helper"
   ]
  },
  {
   "cell_type": "code",
   "execution_count": 97,
   "outputs": [],
   "source": [
    "# important paths\n",
    "DATASETS = 'Datasets\\\\'\n",
    "SAVED_MODELS = 'Saved Models\\\\'"
   ],
   "metadata": {
    "collapsed": false,
    "pycharm": {
     "name": "#%%\n"
    }
   }
  },
  {
   "cell_type": "markdown",
   "source": [
    "## LOAD DATA\n",
    "- create aggregate dataset from all datasets for model training"
   ],
   "metadata": {
    "collapsed": false,
    "pycharm": {
     "name": "#%% md\n"
    }
   }
  },
  {
   "cell_type": "code",
   "execution_count": 98,
   "outputs": [],
   "source": [
    "# load data from csv into dataframe\n",
    "file1 = 'Datasets\\\\clickbait_data.csv'\n",
    "file2 = 'Datasets\\\\clickbait_data2.csv'\n",
    "file3 = 'Datasets\\\\news_data.csv'\n",
    "\n",
    "f1_content = pd.read_csv(file1)\n",
    "f2_content = pd.read_csv(file2, usecols=['title'])\n",
    "f3_content = pd.read_csv(file3, usecols=['headline_text'], nrows=f2_content.shape[0] - 2)\n",
    "\n",
    "df1 = pd.DataFrame(f1_content)\n",
    "df1.rename(columns={'clickbait': 'label'}, inplace=True)\n",
    "\n",
    "df2 = pd.DataFrame(f2_content)\n",
    "df2.rename(columns={'title': 'headline'}, inplace=True)\n",
    "\n",
    "df3 = pd.DataFrame(f3_content)\n",
    "df3.rename(columns={'headline_text' : 'headline'}, inplace=True)"
   ],
   "metadata": {
    "collapsed": false,
    "pycharm": {
     "name": "#%%\n"
    }
   }
  },
  {
   "cell_type": "code",
   "execution_count": 99,
   "outputs": [
    {
     "data": {
      "text/plain": "((32000, 2), (4978, 1), (4976, 1))"
     },
     "execution_count": 99,
     "metadata": {},
     "output_type": "execute_result"
    }
   ],
   "source": [
    "f1_content.shape, f2_content.shape, f3_content.shape"
   ],
   "metadata": {
    "collapsed": false,
    "pycharm": {
     "name": "#%%\n"
    }
   }
  },
  {
   "cell_type": "code",
   "execution_count": 100,
   "outputs": [],
   "source": [
    "# add label columns to df2 and df3\n",
    "df2['label'] = 1\n",
    "df3['label'] = 0"
   ],
   "metadata": {
    "collapsed": false,
    "pycharm": {
     "name": "#%%\n"
    }
   }
  },
  {
   "cell_type": "code",
   "execution_count": 101,
   "outputs": [
    {
     "data": {
      "text/plain": "(41954, 2)"
     },
     "execution_count": 101,
     "metadata": {},
     "output_type": "execute_result"
    }
   ],
   "source": [
    "# aggregate data\n",
    "agg_df = pd.concat([df1, df2, df3], ignore_index=True)\n",
    "agg_df.shape"
   ],
   "metadata": {
    "collapsed": false,
    "pycharm": {
     "name": "#%%\n"
    }
   }
  },
  {
   "cell_type": "code",
   "execution_count": 102,
   "outputs": [
    {
     "data": {
      "text/plain": "0"
     },
     "execution_count": 102,
     "metadata": {},
     "output_type": "execute_result"
    }
   ],
   "source": [
    "# check for missing entries\n",
    "agg_df['headline'].isna().sum()"
   ],
   "metadata": {
    "collapsed": false,
    "pycharm": {
     "name": "#%%\n"
    }
   }
  },
  {
   "cell_type": "code",
   "execution_count": 103,
   "outputs": [
    {
     "data": {
      "text/plain": "1    20977\n0    20977\nName: label, dtype: int64"
     },
     "execution_count": 103,
     "metadata": {},
     "output_type": "execute_result"
    }
   ],
   "source": [
    "# check distribution of labels\n",
    "agg_df['label'].value_counts()"
   ],
   "metadata": {
    "collapsed": false,
    "pycharm": {
     "name": "#%%\n"
    }
   }
  },
  {
   "cell_type": "code",
   "execution_count": 104,
   "outputs": [
    {
     "data": {
      "text/plain": "                                                headline  label\n0                                     Should I Get Bings      1\n1          Which TV Female Friend Group Do You Belong In      1\n2      The New \"Star Wars: The Force Awakens\" Trailer...      1\n3      This Vine Of New York On \"Celebrity Big Brothe...      1\n4      A Couple Did A Stunning Photo Shoot With Their...      1\n...                                                  ...    ...\n41949           port kembla steelworks fire extinguished      0\n41950           portrait of terror sheikh as a young man      0\n41951  protesters target pm at centre funding announc...      0\n41952                   push on for leagues club changes      0\n41953        qld govt willing to discuss rural transport      0\n\n[41954 rows x 2 columns]",
      "text/html": "<div>\n<style scoped>\n    .dataframe tbody tr th:only-of-type {\n        vertical-align: middle;\n    }\n\n    .dataframe tbody tr th {\n        vertical-align: top;\n    }\n\n    .dataframe thead th {\n        text-align: right;\n    }\n</style>\n<table border=\"1\" class=\"dataframe\">\n  <thead>\n    <tr style=\"text-align: right;\">\n      <th></th>\n      <th>headline</th>\n      <th>label</th>\n    </tr>\n  </thead>\n  <tbody>\n    <tr>\n      <th>0</th>\n      <td>Should I Get Bings</td>\n      <td>1</td>\n    </tr>\n    <tr>\n      <th>1</th>\n      <td>Which TV Female Friend Group Do You Belong In</td>\n      <td>1</td>\n    </tr>\n    <tr>\n      <th>2</th>\n      <td>The New \"Star Wars: The Force Awakens\" Trailer...</td>\n      <td>1</td>\n    </tr>\n    <tr>\n      <th>3</th>\n      <td>This Vine Of New York On \"Celebrity Big Brothe...</td>\n      <td>1</td>\n    </tr>\n    <tr>\n      <th>4</th>\n      <td>A Couple Did A Stunning Photo Shoot With Their...</td>\n      <td>1</td>\n    </tr>\n    <tr>\n      <th>...</th>\n      <td>...</td>\n      <td>...</td>\n    </tr>\n    <tr>\n      <th>41949</th>\n      <td>port kembla steelworks fire extinguished</td>\n      <td>0</td>\n    </tr>\n    <tr>\n      <th>41950</th>\n      <td>portrait of terror sheikh as a young man</td>\n      <td>0</td>\n    </tr>\n    <tr>\n      <th>41951</th>\n      <td>protesters target pm at centre funding announc...</td>\n      <td>0</td>\n    </tr>\n    <tr>\n      <th>41952</th>\n      <td>push on for leagues club changes</td>\n      <td>0</td>\n    </tr>\n    <tr>\n      <th>41953</th>\n      <td>qld govt willing to discuss rural transport</td>\n      <td>0</td>\n    </tr>\n  </tbody>\n</table>\n<p>41954 rows × 2 columns</p>\n</div>"
     },
     "execution_count": 104,
     "metadata": {},
     "output_type": "execute_result"
    }
   ],
   "source": [
    "# preview uncleaned dataset, and save uncleaned\n",
    "# uncleaned_data = agg_df.to_csv(DATASETS + 'aggregate_data.csv', encoding='utf-8')\n",
    "agg_df"
   ],
   "metadata": {
    "collapsed": false,
    "pycharm": {
     "name": "#%%\n"
    }
   }
  },
  {
   "cell_type": "code",
   "execution_count": 105,
   "outputs": [],
   "source": [
    "# define label column\n",
    "y = agg_df['label'].astype(np.float32)"
   ],
   "metadata": {
    "collapsed": false,
    "pycharm": {
     "name": "#%%\n"
    }
   }
  },
  {
   "cell_type": "markdown",
   "source": [
    "## **PRE-PROCESSING**\n",
    "- clean data\n",
    "    - convert to lowercase\n",
    "    - expand contractions (handle exceptions)\n",
    "    - remove punctuation (keep hyphens)\n",
    "    - remove stop words *(optional)*\n",
    "    - adjust spacing as needed"
   ],
   "metadata": {
    "collapsed": false,
    "pycharm": {
     "name": "#%% md\n"
    }
   }
  },
  {
   "cell_type": "code",
   "execution_count": 106,
   "outputs": [
    {
     "data": {
      "text/plain": "0                                            get bings\n1                        tv female friend group belong\n2      new star wars force awakens trailer give chills\n3    vine new york celebrity big brother fucking pe...\n4    couple stunning photo shoot baby learning inop...\nName: headline, dtype: object"
     },
     "execution_count": 106,
     "metadata": {},
     "output_type": "execute_result"
    }
   ],
   "source": [
    "cleaned: DataFrame = preprocessor.clean_data(agg_df, remove_sw=True)\n",
    "agg_df.headline = cleaned\n",
    "cleaned.head()"
   ],
   "metadata": {
    "collapsed": false,
    "pycharm": {
     "name": "#%%\n"
    }
   }
  },
  {
   "cell_type": "code",
   "execution_count": 107,
   "outputs": [],
   "source": [
    "# saved cleaned dataset\n",
    "# cleaned_data = cleaned.to_csv(DATASETS + 'cleaned_data.csv', encoding='utf-8')"
   ],
   "metadata": {
    "collapsed": false,
    "pycharm": {
     "name": "#%%\n"
    }
   }
  },
  {
   "cell_type": "markdown",
   "source": [
    "## Splitting the Dataset\n",
    "- split cleaned data into training and test sets"
   ],
   "metadata": {
    "collapsed": false,
    "pycharm": {
     "name": "#%% md\n"
    }
   }
  },
  {
   "cell_type": "code",
   "execution_count": 108,
   "outputs": [],
   "source": [
    "train_data, test_data, y_tr, y_te = train_test_split(cleaned, y, test_size=0.2, random_state=3)\n",
    "y_tr = y_tr.astype(np.float32)\n",
    "y_te = y_te.astype(np.float32)"
   ],
   "metadata": {
    "collapsed": false,
    "pycharm": {
     "name": "#%%\n"
    }
   }
  },
  {
   "cell_type": "markdown",
   "source": [
    "### **ENCODING**\n",
    "- obtain doc-term matrix of corpus\n",
    "- obtain vocab list"
   ],
   "metadata": {
    "collapsed": false,
    "pycharm": {
     "name": "#%% md\n"
    }
   }
  },
  {
   "cell_type": "code",
   "execution_count": 109,
   "outputs": [
    {
     "data": {
      "text/plain": "(['00',\n  '000',\n  '000th',\n  '00s',\n  '04',\n  '05',\n  '08',\n  '08m',\n  '09',\n  '10',\n  '100',\n  '1000',\n  '10000',\n  '100000',\n  '10000th',\n  '1000blackgirls',\n  '100m',\n  '100th',\n  '101',\n  '101st',\n  '102',\n  '103',\n  '1035',\n  '104',\n  '105',\n  '106',\n  '106m',\n  '108',\n  '109',\n  '109th',\n  '10m',\n  '10th',\n  '11',\n  '110',\n  '112pc',\n  '113',\n  '114',\n  '115',\n  '116',\n  '118th',\n  '11k',\n  '11pc',\n  '11th',\n  '12',\n  '120',\n  '1200',\n  '121',\n  '1215',\n  '122',\n  '123',\n  '124',\n  '127',\n  '12b',\n  '12th',\n  '13',\n  '130',\n  '132',\n  '134',\n  '137',\n  '139',\n  '13th',\n  '14',\n  '140',\n  '147',\n  '149',\n  '14m',\n  '14th',\n  '15',\n  '150',\n  '1502',\n  '152',\n  '153',\n  '155',\n  '155m',\n  '158',\n  '15bn',\n  '15th',\n  '16',\n  '160',\n  '162',\n  '163',\n  '165',\n  '16m',\n  '16th',\n  '17',\n  '170',\n  '1700',\n  '17000',\n  '172',\n  '174',\n  '175',\n  '175m',\n  '177',\n  '17pc',\n  '17th',\n  '18',\n  '180',\n  '18000',\n  '1800s',\n  '188',\n  '1890s',\n  '18th',\n  '19',\n  '1900s',\n  '191',\n  '1911',\n  '1915',\n  '1917',\n  '1918',\n  '191m',\n  '1920s',\n  '1930',\n  '1930s',\n  '1939',\n  '1940s',\n  '195',\n  '1950s',\n  '1955',\n  '1959',\n  '1960s',\n  '1964',\n  '1967',\n  '1968',\n  '1970s',\n  '1974',\n  '1976',\n  '1978',\n  '1980',\n  '1980s',\n  '1982',\n  '1983',\n  '1985',\n  '1987a',\n  '1988',\n  '1989',\n  '1990s',\n  '1992',\n  '1993',\n  '1994',\n  '1995',\n  '1996',\n  '1997',\n  '1998',\n  '19pc',\n  '19th',\n  '1b',\n  '1bn',\n  '1in5muslims',\n  '1m',\n  '1st',\n  '1up',\n  '20',\n  '200',\n  '2000',\n  '200000',\n  '2000s',\n  '2001',\n  '2002',\n  '2003',\n  '2004',\n  '2005',\n  '2006',\n  '2007',\n  '2008',\n  '2009',\n  '200k',\n  '200m',\n  '2010',\n  '2011',\n  '2012',\n  '2013',\n  '2014',\n  '2015',\n  '2016',\n  '2017',\n  '2018',\n  '2020',\n  '2022',\n  '2024',\n  '2050',\n  '2060',\n  '2089',\n  '20k',\n  '20pc',\n  '20th',\n  '21',\n  '212',\n  '215',\n  '21m',\n  '21st',\n  '22',\n  '220000',\n  '222',\n  '225',\n  '23',\n  '233',\n  '234',\n  '235',\n  '23rd',\n  '24',\n  '240',\n  '242',\n  '242b',\n  '244',\n  '25',\n  '250',\n  '253',\n  '257',\n  '25m',\n  '26',\n  '260',\n  '260000',\n  '266',\n  '266m',\n  '268',\n  '27',\n  '275',\n  '27m',\n  '27th',\n  '28',\n  '281',\n  '29',\n  '290',\n  '292',\n  '29th',\n  '2b',\n  '2channel',\n  '2gb',\n  '2k15',\n  '2m',\n  '2nd',\n  '30',\n  '300',\n  '3000',\n  '300th',\n  '301',\n  '302',\n  '306',\n  '30a',\n  '30s',\n  '31',\n  '32',\n  '327',\n  '33',\n  '34',\n  '3407',\n  '349',\n  '35',\n  '350',\n  '351',\n  '35m',\n  '35th',\n  '35w',\n  '36',\n  '360',\n  '360s',\n  '37',\n  '370',\n  '374th',\n  '378',\n  '38',\n  '380',\n  '38m',\n  '39',\n  '39k',\n  '3b',\n  '3c',\n  '3d',\n  '3g',\n  '3m',\n  '3rd',\n  '3sl',\n  '40',\n  '400',\n  '4000th',\n  '401',\n  '40th',\n  '41',\n  '41st',\n  '42',\n  '42nd',\n  '43',\n  '435',\n  '437m',\n  '44',\n  '440',\n  '447',\n  '449',\n  '44th',\n  '45',\n  '450',\n  '452',\n  '46',\n  '460',\n  '468',\n  '47',\n  '48',\n  '48th',\n  '49',\n  '491',\n  '495',\n  '499',\n  '49ers',\n  '4m',\n  '4th',\n  '4wd',\n  '50',\n  '500',\n  '500000',\n  '5022',\n  '50m',\n  '50pc',\n  '50s',\n  '50th',\n  '51',\n  '5191',\n  '52',\n  '53',\n  '53rd',\n  '54',\n  '540',\n  '55',\n  '550',\n  '56',\n  '57',\n  '570',\n  '58',\n  '59',\n  '598000',\n  '5bn',\n  '5c',\n  '5m',\n  '5p',\n  '5sos',\n  '5th',\n  '60',\n  '600',\n  '60m',\n  '60th',\n  '61',\n  '619',\n  '62',\n  '626',\n  '63',\n  '6300',\n  '64',\n  '64th',\n  '65',\n  '6500',\n  '65th',\n  '66',\n  '67',\n  '671',\n  '679',\n  '67th',\n  '68',\n  '69',\n  '6s',\n  '70',\n  '700',\n  '70s',\n  '70th',\n  '71',\n  '72',\n  '73',\n  '737',\n  '737s',\n  '73m',\n  '74',\n  '740',\n  '742',\n  '747',\n  '75',\n  '750m',\n  '75th',\n  '75w',\n  '76',\n  '767',\n  '76ers',\n  '77',\n  '775',\n  '777',\n  '78',\n  '787',\n  '788',\n  '789',\n  '78th',\n  '79',\n  '7m',\n  '7s',\n  '7th',\n  '80',\n  '800',\n  '800th',\n  '80m',\n  '80s',\n  '80th',\n  '81',\n  '82',\n  '821',\n  '823',\n  '82nd',\n  '83',\n  '84',\n  '85',\n  '850',\n  '86',\n  '87',\n  '88',\n  '89',\n  '896m',\n  '8m',\n  '8th',\n  '90',\n  '900',\n  '90210',\n  '90s',\n  '90th',\n  '91',\n  '911',\n  '918',\n  '92',\n  '92a',\n  '93',\n  '94',\n  '95',\n  '950',\n  '95th',\n  '96',\n  '97',\n  '97pc',\n  '98',\n  '98th',\n  '99',\n  '9b',\n  '9m',\n  '9pc',\n  'a1gp',\n  'a320',\n  'a340',\n  'a37',\n  'a380',\n  'aa',\n  'aaa',\n  'aaevpc',\n  'aaron',\n  'aarons',\n  'ab',\n  'aba',\n  'abalone',\n  'abandon',\n  'abandoned',\n  'abandons',\n  'abare',\n  'abattoir',\n  'abattoirs',\n  'abba',\n  'abbas',\n  'abbey',\n  'abbott',\n  'abby',\n  'abc',\n  'abcs',\n  'abdallahi',\n  'abdelbaset',\n  'abdicate',\n  'abdicates',\n  'abducted',\n  'abduction',\n  'abductions',\n  'abductor',\n  'abductors',\n  'abdul',\n  'abdullah',\n  'abdulmutallab',\n  'abe',\n  'abercrombie',\n  'aberdeen',\n  'abhishek',\n  'abhisit',\n  'abide',\n  'abigroup',\n  'abilities',\n  'ability',\n  'abin',\n  'abitibibowater',\n  'abject',\n  'abkhazia',\n  'ablaze',\n  'able',\n  'aboard',\n  'abolish',\n  'abolished',\n  'aboriginal',\n  'aborigines',\n  'aborted',\n  'abortion',\n  'abortions',\n  'aborts',\n  'aboulhosn',\n  'abound',\n  'abraham',\n  'abramoff',\n  'abrams',\n  'abreast',\n  'abroad',\n  'abrogates',\n  'abs',\n  'abse',\n  'absence',\n  'absent',\n  'absentee',\n  'absolute',\n  'absolutely',\n  'absorbs',\n  'abstention',\n  'abstinence',\n  'abstract',\n  'absurd',\n  'absurdity',\n  'absurdly',\n  'abu',\n  'abuela',\n  'abuelita',\n  'abundant',\n  'abuse',\n  'abused',\n  'abuses',\n  'abusing',\n  'abusive',\n  'ac',\n  'aca',\n  'academic',\n  'academics',\n  'academy',\n  'acapella',\n  'acapulco',\n  'acb',\n  'accc',\n  'accelerated',\n  'accelerating',\n  'accelerator',\n  'accelerators',\n  'accent',\n  'accents',\n  'accenture',\n  'accept',\n  'acceptance',\n  'accepted',\n  'accepting',\n  'accepts',\n  'access',\n  'accessible',\n  'accession',\n  'accessories',\n  'accessory',\n  'accident',\n  'accidental',\n  'accidentally',\n  'accidents',\n  'accolades',\n  'accommodation',\n  'accomplish',\n  'accord',\n  'according',\n  'accords',\n  'account',\n  'accountability',\n  'accountant',\n  'accountants',\n  'accounted',\n  'accounting',\n  'accounts',\n  'accra',\n  'accurate',\n  'accurately',\n  'accusation',\n  'accusations',\n  'accuse',\n  'accused',\n  'accuser',\n  'accuses',\n  'ace',\n  'aced',\n  'aces',\n  'ache',\n  'aches',\n  'achievement',\n  'achievements',\n  'achieves',\n  'achieving',\n  'acid',\n  'acidic',\n  'acknowledge',\n  'acknowledges',\n  'aclu',\n  'acne',\n  'acorn',\n  'acquiesce',\n  'acquire',\n  'acquired',\n  'acquires',\n  'acquiring',\n  'acquisition',\n  'acquisitions',\n  'acquit',\n  'acquits',\n  'acquitted',\n  'acre',\n  'acrobat',\n  'acronym',\n  'acronyms',\n  'across',\n  'acrylic',\n  'act',\n  'acted',\n  'acting',\n  'action',\n  'actions',\n  'activated',\n  'active',\n  'actively',\n  'activex',\n  'activist',\n  'activists',\n  'activities',\n  'activity',\n  'actor',\n  'actors',\n  'actress',\n  'actresses',\n  'acts',\n  'actu',\n  'actual',\n  'actually',\n  'acu',\n  'acutely',\n  'ad',\n  'adam',\n  'adamov',\n  'adams',\n  'adapt',\n  'adaptations',\n  'adapted',\n  'adapter',\n  'adaptors',\n  'adcenter',\n  'add',\n  'addams',\n  'addax',\n  'added',\n  'addict',\n  'addicted',\n  'addiction',\n  'addicts',\n  'adding',\n  'addition',\n  'additional',\n  'additions',\n  'address',\n  'addressed',\n  'addresses',\n  'adds',\n  'adela',\n  'adelaide',\n  'adele',\n  'adelphia',\n  'adenhart',\n  'adha',\n  'adhd',\n  'adirondacks',\n  'adjourned',\n  'adjust',\n  'adjustment',\n  'adjusts',\n  'adkins',\n  'administration',\n  'administrator',\n  'administrators',\n  'admiral',\n  'admission',\n  'admit',\n  'admits',\n  'admitted',\n  'admitting',\n  'adolf',\n  'adopt',\n  'adopted',\n  'adopting',\n  'adoption',\n  'adopts',\n  'adorable',\n  'adorably',\n  'adore',\n  'adp',\n  'adrienne',\n  'adrift',\n  'ads',\n  'adua',\n  'aduba',\n  'adult',\n  'adultery',\n  'adulthood',\n  'adulting',\n  'adults',\n  'adulty',\n  'advance',\n  'advances',\n  'advancing',\n  'advantage',\n  'advantages',\n  'advent',\n  'adventure',\n  'adventurer',\n  'adventures',\n  'adventurous',\n  'advert',\n  'advertise',\n  'advertisement',\n  'advertisements',\n  'advertisers',\n  'advertising',\n  'adverts',\n  'advice',\n  'advise',\n  'advised',\n  'adviser',\n  'advisers',\n  'advises',\n  'advisor',\n  'advisory',\n  'advocacy',\n  'advocate',\n  'advocates',\n  'aec',\n  'aer',\n  'aerial',\n  'aerodynamics',\n  'aeroflot',\n  'aerosmith',\n  'aesthetic',\n  'af',\n  'afa',\n  'afb',\n  'afc',\n  'affair',\n  'affairs',\n  'affect',\n  'affected',\n  'affecting',\n  'affects',\n  'affiliate',\n  'affirms',\n  'affleck',\n  'afflict',\n  'afflicted',\n  'affluent',\n  'afford',\n  'affordable',\n  'afghan',\n  'afghanistan',\n  'afghans',\n  'afire',\n  'afl',\n  'afleet',\n  'afloat',\n  'afma',\n  'afp',\n  'afraid',\n  'africa',\n  'african',\n  'africans',\n  'africas',\n  'afridi',\n  'afro',\n  'after',\n  'aftermath',\n  'afternoon',\n  'afterparty',\n  'aftershock',\n  'aftershocks',\n  'ag',\n  'aga',\n  'agassi',\n  'agassis',\n  'agata',\n  'age',\n  'aged',\n  'ageism',\n  'agencies',\n  'agency',\n  'agenda',\n  'agent',\n  'agents',\n  'ages',\n  'agforce',\n  'aggravated',\n  'aggravating',\n  'aggressive',\n  'aggressively',\n  'agha',\n  'agim',\n  'aging',\n  'agl',\n  'agni',\n  'ago',\n  'agonizing',\n  'agony',\n  'agree',\n  'agreed',\n  'agreement',\n  'agreements',\n  'agrees',\n  'agricultural',\n  'agriculture',\n  'aground',\n  'aguilera',\n  'agust',\n  'ahead',\n  'ahhhhhhh',\n  'ahmad',\n  'ahmadinejad',\n  'ahmed',\n  'ahmedi',\n  'ahola',\n  'ahs',\n  'aiadmk',\n  'aid',\n  'aidan',\n  'aide',\n  'aided',\n  'aides',\n  'aiding',\n  'aids',\n  'aidy',\n  'aig',\n  'aila',\n  'ailing',\n  'ailments',\n  'ails',\n  'aim',\n  'aimed',\n  'aiming',\n  'aims',\n  'ainge',\n  'air',\n  'airblue',\n  'airbnb',\n  'airbnbs',\n  'airborne',\n  'airbus',\n  'aircraft',\n  'aired',\n  'aires',\n  'airfield',\n  'airline',\n  'airliner',\n  'airliners',\n  'airlines',\n  'airmen',\n  'airpark',\n  'airplane',\n  'airplanes',\n  'airpods',\n  'airport',\n  'airports',\n  'airs',\n  'airshow',\n  'airspace',\n  'airstrike',\n  'airstrikes',\n  'airtanker',\n  'airwaves',\n  'airways',\n  'airwomen',\n  'ais',\n  'aishwarya',\n  'aisle',\n  'ajax',\n  'aka',\n  'akbar',\n  'akerman',\n  'akhtar',\n  'akihabara',\n  'akkermans',\n  'akp',\n  'akram',\n  'akshay',\n  'al',\n  'ala',\n  'alabama',\n  'aladdin',\n  'alain',\n  'alam',\n  'alamo',\n  'alan',\n  'alania',\n  'alanis',\n  'alarm',\n  'alarmed',\n  'alarming',\n  'alarms',\n  'alaska',\n  'alaskan',\n  'alaskans',\n  'alassane',\n  'albania',\n  'albanians',\n  'albany',\n  'albert',\n  'alberta',\n  'albertan',\n  'alberto',\n  'albinism',\n  'albom',\n  'albright',\n  'album',\n  'albums',\n  'albury',\n  'albus',\n  'alcatel',\n  'alcoa',\n  'alcohol',\n  'alcoholic',\n  'aldean',\n  'aldorino',\n  'aldub',\n  'alec',\n  'alejandro',\n  'aleksandr',\n  'alert',\n  'alerted',\n  'alerts',\n  'alesis',\n  'aleutian',\n  'alex',\n  'alexander',\n  'alexandra',\n  'alexandre',\n  'alexandria',\n  'alfred',\n  'alfredo',\n  'alfredsson',\n  'algae',\n  'algal',\n  'algarve',\n  'algebra',\n  'algeria',\n  'algerian',\n  'algiers',\n  'ali',\n  'alia',\n  'alianza',\n  'alias',\n  'alice',\n  'alicia',\n  'alien',\n  'aliens',\n  'alight',\n  'aligned',\n  'alinghi',\n  'aliph',\n  'alissa',\n  'alistair',\n  'alitalia',\n  'alito',\n  'alive',\n  'aliyev',\n  'all',\n  'allan',\n  'allegation',\n  'allegations',\n  'allege',\n  'alleged',\n  'allegedly',\n  'alleges',\n  'allegiance',\n  'allegiant',\n  'alleging',\n  'allen',\n  'allergies',\n  'allergy',\n  'alli',\n  'alliance',\n  'allied',\n  'allies',\n  'alligator',\n  'allison',\n  'allocated',\n  'allocation',\n  'allocations',\n  'allotting',\n  'allow',\n  'allowance',\n  'allowed',\n  'allowing',\n  'allows',\n  'alludes',\n  'ally',\n  'almond',\n  ...],\n (33563, 22584),\n (8391, 22584))"
     },
     "execution_count": 109,
     "metadata": {},
     "output_type": "execute_result"
    }
   ],
   "source": [
    "# X_train is a document-term matrix (sparse matrix)\n",
    "reload(encode)\n",
    "cv = CountVectorizer()\n",
    "cv.fit(train_data)\n",
    "vocab = cv.get_feature_names()\n",
    "X_tr = cv.transform(train_data)\n",
    "X_tr = X_tr.toarray()\n",
    "X_te = cv.transform(test_data)\n",
    "X_te = X_te.toarray()\n",
    "vocab, X_tr.shape, X_te.shape"
   ],
   "metadata": {
    "collapsed": false,
    "pycharm": {
     "name": "#%%\n"
    }
   }
  },
  {
   "cell_type": "markdown",
   "source": [
    "## Building & Training the Model"
   ],
   "metadata": {
    "collapsed": false,
    "pycharm": {
     "name": "#%% md\n"
    }
   }
  },
  {
   "cell_type": "code",
   "execution_count": 110,
   "outputs": [
    {
     "data": {
      "text/plain": "<latexify.core.with_latex.<locals>._LatexifiedFunction at 0x1d91d1256d0>",
      "text/latex": "$$ \\displaystyle \\mathrm{relu}(x)\\triangleq \\left\\{ \\begin{array}{ll} x, & \\mathrm{if} \\ x\\ge 0 \\\\ 0, & \\mathrm{otherwise} \\end{array} \\right. $$"
     },
     "execution_count": 110,
     "metadata": {},
     "output_type": "execute_result"
    }
   ],
   "source": [
    "@latexify.with_latex\n",
    "def relu(x):\n",
    "    if x >= 0:\n",
    "        return x\n",
    "    else:\n",
    "        return 0\n",
    "relu"
   ],
   "metadata": {
    "collapsed": false,
    "pycharm": {
     "name": "#%%\n"
    }
   }
  },
  {
   "cell_type": "code",
   "execution_count": 111,
   "outputs": [
    {
     "data": {
      "text/plain": "<latexify.core.with_latex.<locals>._LatexifiedFunction at 0x1d91ca35eb0>",
      "text/latex": "$$ \\displaystyle \\mathrm{sigmoid}(x)\\triangleq \\frac{1}{1 + e^{-x}} $$"
     },
     "execution_count": 111,
     "metadata": {},
     "output_type": "execute_result"
    }
   ],
   "source": [
    "# activation function\n",
    "@latexify.with_latex\n",
    "def sigmoid(x):\n",
    "    return 1 / (1 + e ** -x)\n",
    "sigmoid"
   ],
   "metadata": {
    "collapsed": false,
    "pycharm": {
     "name": "#%%\n"
    }
   }
  },
  {
   "cell_type": "code",
   "execution_count": 112,
   "outputs": [
    {
     "name": "stdout",
     "output_type": "stream",
     "text": [
      "Model: \"sequential_1\"\n",
      "_________________________________________________________________\n",
      " Layer (type)                Output Shape              Param #   \n",
      "=================================================================\n",
      " dense_2 (Dense)             (None, 10)                225850    \n",
      "                                                                 \n",
      " dense_3 (Dense)             (None, 1)                 11        \n",
      "                                                                 \n",
      "=================================================================\n",
      "Total params: 225,861\n",
      "Trainable params: 225,861\n",
      "Non-trainable params: 0\n",
      "_________________________________________________________________\n"
     ]
    }
   ],
   "source": [
    "model = Sequential()\n",
    "model.add(Dense(10, activation='relu', input_dim=X_tr.shape[1]))\n",
    "model.add(Dense(1, activation='sigmoid'))\n",
    "model.summary()\n",
    "model.compile(optimizer='adam', loss='binary_crossentropy', metrics=['accuracy'])"
   ],
   "metadata": {
    "collapsed": false,
    "pycharm": {
     "name": "#%%\n"
    }
   }
  },
  {
   "cell_type": "code",
   "execution_count": 113,
   "outputs": [
    {
     "name": "stdout",
     "output_type": "stream",
     "text": [
      "Epoch 1/20\n",
      "263/263 [==============================] - 4s 12ms/step - loss: 0.4135 - accuracy: 0.9334 - val_loss: 0.2126 - val_accuracy: 0.9640\n",
      "Epoch 2/20\n",
      "263/263 [==============================] - 3s 11ms/step - loss: 0.1425 - accuracy: 0.9729 - val_loss: 0.1212 - val_accuracy: 0.9677\n",
      "Epoch 3/20\n",
      "263/263 [==============================] - 3s 11ms/step - loss: 0.0804 - accuracy: 0.9825 - val_loss: 0.0966 - val_accuracy: 0.9695\n",
      "Epoch 4/20\n",
      "263/263 [==============================] - 3s 11ms/step - loss: 0.0542 - accuracy: 0.9877 - val_loss: 0.0871 - val_accuracy: 0.9704\n",
      "Epoch 5/20\n",
      "263/263 [==============================] - 3s 12ms/step - loss: 0.0392 - accuracy: 0.9922 - val_loss: 0.0833 - val_accuracy: 0.9707\n",
      "Epoch 6/20\n",
      "263/263 [==============================] - 3s 11ms/step - loss: 0.0294 - accuracy: 0.9947 - val_loss: 0.0821 - val_accuracy: 0.9701\n",
      "Epoch 7/20\n",
      "263/263 [==============================] - 3s 11ms/step - loss: 0.0227 - accuracy: 0.9962 - val_loss: 0.0822 - val_accuracy: 0.9700\n",
      "Epoch 8/20\n",
      "263/263 [==============================] - 3s 12ms/step - loss: 0.0177 - accuracy: 0.9974 - val_loss: 0.0832 - val_accuracy: 0.9688\n",
      "Epoch 9/20\n",
      "263/263 [==============================] - 3s 11ms/step - loss: 0.0141 - accuracy: 0.9980 - val_loss: 0.0850 - val_accuracy: 0.9685\n",
      "Epoch 10/20\n",
      "263/263 [==============================] - 3s 12ms/step - loss: 0.0112 - accuracy: 0.9987 - val_loss: 0.0870 - val_accuracy: 0.9677\n",
      "Epoch 11/20\n",
      "263/263 [==============================] - 3s 12ms/step - loss: 0.0091 - accuracy: 0.9991 - val_loss: 0.0895 - val_accuracy: 0.9664\n",
      "Epoch 12/20\n",
      "263/263 [==============================] - 3s 11ms/step - loss: 0.0074 - accuracy: 0.9993 - val_loss: 0.0922 - val_accuracy: 0.9658\n",
      "Epoch 13/20\n",
      "263/263 [==============================] - 3s 11ms/step - loss: 0.0060 - accuracy: 0.9995 - val_loss: 0.0951 - val_accuracy: 0.9656\n",
      "Epoch 14/20\n",
      "263/263 [==============================] - 3s 11ms/step - loss: 0.0049 - accuracy: 0.9996 - val_loss: 0.0982 - val_accuracy: 0.9650\n",
      "Epoch 15/20\n",
      "263/263 [==============================] - 3s 11ms/step - loss: 0.0041 - accuracy: 0.9997 - val_loss: 0.1013 - val_accuracy: 0.9646\n",
      "Epoch 16/20\n",
      "263/263 [==============================] - 3s 11ms/step - loss: 0.0034 - accuracy: 0.9997 - val_loss: 0.1045 - val_accuracy: 0.9646\n",
      "Epoch 17/20\n",
      "263/263 [==============================] - 3s 11ms/step - loss: 0.0029 - accuracy: 0.9997 - val_loss: 0.1079 - val_accuracy: 0.9637\n",
      "Epoch 18/20\n",
      "263/263 [==============================] - 3s 12ms/step - loss: 0.0024 - accuracy: 0.9997 - val_loss: 0.1113 - val_accuracy: 0.9635\n",
      "Epoch 19/20\n",
      "263/263 [==============================] - 3s 12ms/step - loss: 0.0020 - accuracy: 0.9998 - val_loss: 0.1148 - val_accuracy: 0.9631\n",
      "Epoch 20/20\n",
      "263/263 [==============================] - 3s 11ms/step - loss: 0.0017 - accuracy: 0.9998 - val_loss: 0.1184 - val_accuracy: 0.9629\n"
     ]
    },
    {
     "data": {
      "text/plain": "<Figure size 864x360 with 2 Axes>",
      "image/png": "[encoded data removed]"
     },
     "metadata": {},
     "output_type": "display_data"
    }
   ],
   "source": [
    "from keras.callbacks import EarlyStopping\n",
    "callback = EarlyStopping(monitor='val_accuracy', patience=5)\n",
    "\n",
    "# uncomment to train with early stopping\n",
    "# history = model.fit(X_tr, y_tr,\n",
    "#                     epochs=20,\n",
    "#                     verbose=True,\n",
    "#                     validation_data=(X_te, y_te),\n",
    "#                     batch_size=128,\n",
    "#                     callbacks=callback)\n",
    "\n",
    "history = model.fit(X_tr, y_tr,\n",
    "                    epochs=20,\n",
    "                    verbose=True,\n",
    "                    validation_data=(X_te, y_te),\n",
    "                    batch_size=128)\n",
    "\n",
    "grapher.plot_history(history)"
   ],
   "metadata": {
    "collapsed": false,
    "pycharm": {
     "name": "#%%\n"
    }
   }
  },
  {
   "cell_type": "code",
   "execution_count": 114,
   "outputs": [
    {
     "name": "stdout",
     "output_type": "stream",
     "text": [
      "1049/1049 [==============================] - 3s 3ms/step - loss: 0.0015 - accuracy: 0.9998\n",
      "Training Accuracy: 0.9998\n"
     ]
    }
   ],
   "source": [
    "loss, accuracy = model.evaluate(X_tr, y_tr, verbose=True)\n",
    "print(\"Training Accuracy: {:.4f}\".format(accuracy))"
   ],
   "metadata": {
    "collapsed": false,
    "pycharm": {
     "name": "#%%\n"
    }
   }
  },
  {
   "cell_type": "code",
   "execution_count": 115,
   "outputs": [
    {
     "name": "stdout",
     "output_type": "stream",
     "text": [
      "263/263 [==============================] - 1s 3ms/step - loss: 0.1184 - accuracy: 0.9629\n",
      "Testing Accuracy:  0.9629\n"
     ]
    }
   ],
   "source": [
    "loss, accuracy = model.evaluate(X_te, y_te, verbose=True)\n",
    "print(\"Testing Accuracy:  {:.4f}\".format(accuracy))"
   ],
   "metadata": {
    "collapsed": false,
    "pycharm": {
     "name": "#%%\n"
    }
   }
  },
  {
   "cell_type": "code",
   "execution_count": 116,
   "outputs": [],
   "source": [
    "# save model\n",
    "# model.save('Saved Models\\\\trained_agg')"
   ],
   "metadata": {
    "collapsed": false,
    "pycharm": {
     "name": "#%%\n"
    }
   }
  },
  {
   "cell_type": "code",
   "execution_count": 117,
   "outputs": [],
   "source": [
    "# load model\n",
    "#trained_model = keras.models.load_model('Saved Models\\\\trained_2')"
   ],
   "metadata": {
    "collapsed": false,
    "pycharm": {
     "name": "#%%\n"
    }
   }
  },
  {
   "cell_type": "code",
   "execution_count": 118,
   "outputs": [],
   "source": [
    "def clickbait_classifier():\n",
    "    from_user = input()\n",
    "    doc_term_matrix = encode.to_doc_term_matrix(from_user, train_data=train_data)\n",
    "    pred = model.predict(doc_term_matrix, verbose=False)[0]\n",
    "    if pred >= 0.5:\n",
    "        print('\"{}\": CLICKBAIT!\\n'.format(from_user))\n",
    "    else:\n",
    "        print('\"{}\": Not clickbait.\\n'.format(from_user))\n",
    "    return pred"
   ],
   "metadata": {
    "collapsed": false,
    "pycharm": {
     "name": "#%%\n"
    }
   }
  },
  {
   "cell_type": "code",
   "execution_count": 119,
   "outputs": [
    {
     "name": "stdout",
     "output_type": "stream",
     "text": [
      "\"15 shocking life hacks that will leave you speechless\": CLICKBAIT!\n",
      "\n",
      "[0.99999976]\n"
     ]
    }
   ],
   "source": [
    "result = clickbait_classifier()\n",
    "print(result)"
   ],
   "metadata": {
    "collapsed": false,
    "pycharm": {
     "name": "#%%\n"
    }
   }
  },
  {
   "cell_type": "code",
   "execution_count": 119,
   "outputs": [],
   "source": [],
   "metadata": {
    "collapsed": false,
    "pycharm": {
     "name": "#%%\n"
    }
   }
  }
 ],
 "metadata": {
  "kernelspec": {
   "display_name": "Python 3",
   "language": "python",
   "name": "python3"
  },
  "language_info": {
   "codemirror_mode": {
    "name": "ipython",
    "version": 2
   },
   "file_extension": ".py",
   "mimetype": "text/x-python",
   "name": "python",
   "nbconvert_exporter": "python",
   "pygments_lexer": "ipython2",
   "version": "2.7.6"
  }
 },
 "nbformat": 4,
 "nbformat_minor": 0
}