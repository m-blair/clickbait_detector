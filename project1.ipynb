{
 "cells": [
  {
   "cell_type": "markdown",
   "source": [
    "# **CLICKBAIT CLASSIFIER**\n",
    "***\n",
    "\n",
    "[Dataset](https://www.kaggle.com/datasets/amananandrai/clickbait-dataset?select=clickbait_data.csv)"
   ],
   "metadata": {
    "collapsed": false,
    "pycharm": {
     "name": "#%% md\n"
    }
   }
  },
  {
   "cell_type": "code",
   "execution_count": 84,
   "metadata": {
    "collapsed": true,
    "pycharm": {
     "name": "#%%\n"
    }
   },
   "outputs": [],
   "source": [
    "# ML-related external modules\n",
    "import nltk\n",
    "import keras.layers\n",
    "import numpy as np\n",
    "import pandas as pd\n",
    "import matplotlib as plt\n",
    "from tensorflow import keras\n",
    "from tensorflow.keras.models import Sequential, model_from_json\n",
    "from tensorflow.keras.layers import Dense, Embedding, GlobalAvgPool1D, Dense\n",
    "from tensorflow.keras.preprocessing.text import Tokenizer\n",
    "from tensorflow.keras.preprocessing.sequence import pad_sequences\n",
    "from keras.backend import clear_session\n",
    "from sklearn.feature_extraction.text import CountVectorizer, TfidfVectorizer, TfidfTransformer\n",
    "from sklearn.model_selection import train_test_split\n",
    "from sklearn.linear_model import LogisticRegression\n",
    "from numpy import asarray\n",
    "from nltk.tokenize import word_tokenize\n",
    "from nltk.corpus import stopwords\n",
    "\n",
    "# non-ML related external modules\n",
    "import contractions\n",
    "import latexify\n",
    "\n",
    "# built-in modules\n",
    "from collections import Counter\n",
    "from importlib import reload\n",
    "import time\n",
    "import re\n",
    "import random\n",
    "import string\n",
    "from string import punctuation\n",
    "import math\n",
    "import csv\n",
    "\n",
    "#local files\n",
    "import preprocessor\n",
    "import grapher\n",
    "import encode\n",
    "import df_helper"
   ]
  },
  {
   "cell_type": "code",
   "execution_count": 85,
   "outputs": [],
   "source": [
    "# important paths\n",
    "DATASETS = 'Datasets\\\\'\n",
    "SAVED_MODELS = 'Saved Models\\\\'"
   ],
   "metadata": {
    "collapsed": false,
    "pycharm": {
     "name": "#%%\n"
    }
   }
  },
  {
   "cell_type": "markdown",
   "source": [
    "## LOAD DATA\n",
    "- create aggregate dataset from all datasets for model training"
   ],
   "metadata": {
    "collapsed": false,
    "pycharm": {
     "name": "#%% md\n"
    }
   }
  },
  {
   "cell_type": "code",
   "execution_count": 86,
   "outputs": [],
   "source": [
    "# load data from csv into dataframe\n",
    "file1 = 'Datasets\\\\clickbait_data.csv'\n",
    "file2 = 'Datasets\\\\clickbait_data2.csv'\n",
    "file3 = 'Datasets\\\\news_data.csv'\n",
    "\n",
    "f1_content = pd.read_csv(file1)\n",
    "f2_content = pd.read_csv(file2, usecols=['title'])\n",
    "f3_content = pd.read_csv(file3, usecols=['headline_text'], nrows=f2_content.shape[0] - 2)\n",
    "\n",
    "df1 = pd.DataFrame(f1_content)\n",
    "df1.rename(columns={'clickbait': 'label'}, inplace=True)\n",
    "\n",
    "df2 = pd.DataFrame(f2_content)\n",
    "df2.rename(columns={'title': 'headline'}, inplace=True)\n",
    "\n",
    "df3 = pd.DataFrame(f3_content)\n",
    "df3.rename(columns={'headline_text' : 'headline'}, inplace=True)"
   ],
   "metadata": {
    "collapsed": false,
    "pycharm": {
     "name": "#%%\n"
    }
   }
  },
  {
   "cell_type": "code",
   "execution_count": 87,
   "outputs": [
    {
     "data": {
      "text/plain": "((32000, 2), (4978, 1), (4976, 1))"
     },
     "execution_count": 87,
     "metadata": {},
     "output_type": "execute_result"
    }
   ],
   "source": [
    "f1_content.shape, f2_content.shape, f3_content.shape"
   ],
   "metadata": {
    "collapsed": false,
    "pycharm": {
     "name": "#%%\n"
    }
   }
  },
  {
   "cell_type": "code",
   "execution_count": 88,
   "outputs": [],
   "source": [
    "# add label columns to df2 and df3\n",
    "df2['label'] = 1\n",
    "df3['label'] = 0"
   ],
   "metadata": {
    "collapsed": false,
    "pycharm": {
     "name": "#%%\n"
    }
   }
  },
  {
   "cell_type": "code",
   "execution_count": 89,
   "outputs": [
    {
     "data": {
      "text/plain": "(41954, 2)"
     },
     "execution_count": 89,
     "metadata": {},
     "output_type": "execute_result"
    }
   ],
   "source": [
    "# aggregate data\n",
    "agg_df = pd.concat([df1, df2, df3], ignore_index=True)\n",
    "agg_df.shape"
   ],
   "metadata": {
    "collapsed": false,
    "pycharm": {
     "name": "#%%\n"
    }
   }
  },
  {
   "cell_type": "code",
   "execution_count": 90,
   "outputs": [
    {
     "data": {
      "text/plain": "0"
     },
     "execution_count": 90,
     "metadata": {},
     "output_type": "execute_result"
    }
   ],
   "source": [
    "# check for missing entries\n",
    "agg_df['headline'].isna().sum()"
   ],
   "metadata": {
    "collapsed": false,
    "pycharm": {
     "name": "#%%\n"
    }
   }
  },
  {
   "cell_type": "code",
   "execution_count": 91,
   "outputs": [
    {
     "data": {
      "text/plain": "1    20977\n0    20977\nName: label, dtype: int64"
     },
     "execution_count": 91,
     "metadata": {},
     "output_type": "execute_result"
    }
   ],
   "source": [
    "# check distribution of labels\n",
    "agg_df['label'].value_counts()"
   ],
   "metadata": {
    "collapsed": false,
    "pycharm": {
     "name": "#%%\n"
    }
   }
  },
  {
   "cell_type": "code",
   "execution_count": 92,
   "outputs": [
    {
     "data": {
      "text/plain": "                                                headline  label\n0                                     Should I Get Bings      1\n1          Which TV Female Friend Group Do You Belong In      1\n2      The New \"Star Wars: The Force Awakens\" Trailer...      1\n3      This Vine Of New York On \"Celebrity Big Brothe...      1\n4      A Couple Did A Stunning Photo Shoot With Their...      1\n...                                                  ...    ...\n41949           port kembla steelworks fire extinguished      0\n41950           portrait of terror sheikh as a young man      0\n41951  protesters target pm at centre funding announc...      0\n41952                   push on for leagues club changes      0\n41953        qld govt willing to discuss rural transport      0\n\n[41954 rows x 2 columns]",
      "text/html": "<div>\n<style scoped>\n    .dataframe tbody tr th:only-of-type {\n        vertical-align: middle;\n    }\n\n    .dataframe tbody tr th {\n        vertical-align: top;\n    }\n\n    .dataframe thead th {\n        text-align: right;\n    }\n</style>\n<table border=\"1\" class=\"dataframe\">\n  <thead>\n    <tr style=\"text-align: right;\">\n      <th></th>\n      <th>headline</th>\n      <th>label</th>\n    </tr>\n  </thead>\n  <tbody>\n    <tr>\n      <th>0</th>\n      <td>Should I Get Bings</td>\n      <td>1</td>\n    </tr>\n    <tr>\n      <th>1</th>\n      <td>Which TV Female Friend Group Do You Belong In</td>\n      <td>1</td>\n    </tr>\n    <tr>\n      <th>2</th>\n      <td>The New \"Star Wars: The Force Awakens\" Trailer...</td>\n      <td>1</td>\n    </tr>\n    <tr>\n      <th>3</th>\n      <td>This Vine Of New York On \"Celebrity Big Brothe...</td>\n      <td>1</td>\n    </tr>\n    <tr>\n      <th>4</th>\n      <td>A Couple Did A Stunning Photo Shoot With Their...</td>\n      <td>1</td>\n    </tr>\n    <tr>\n      <th>...</th>\n      <td>...</td>\n      <td>...</td>\n    </tr>\n    <tr>\n      <th>41949</th>\n      <td>port kembla steelworks fire extinguished</td>\n      <td>0</td>\n    </tr>\n    <tr>\n      <th>41950</th>\n      <td>portrait of terror sheikh as a young man</td>\n      <td>0</td>\n    </tr>\n    <tr>\n      <th>41951</th>\n      <td>protesters target pm at centre funding announc...</td>\n      <td>0</td>\n    </tr>\n    <tr>\n      <th>41952</th>\n      <td>push on for leagues club changes</td>\n      <td>0</td>\n    </tr>\n    <tr>\n      <th>41953</th>\n      <td>qld govt willing to discuss rural transport</td>\n      <td>0</td>\n    </tr>\n  </tbody>\n</table>\n<p>41954 rows × 2 columns</p>\n</div>"
     },
     "execution_count": 92,
     "metadata": {},
     "output_type": "execute_result"
    }
   ],
   "source": [
    "# preview uncleaned dataset, and save uncleaned\n",
    "uncleaned_data = agg_df.to_csv(DATASETS + 'aggregate_data.csv', encoding='utf-8')\n",
    "agg_df"
   ],
   "metadata": {
    "collapsed": false,
    "pycharm": {
     "name": "#%%\n"
    }
   }
  },
  {
   "cell_type": "code",
   "execution_count": 93,
   "outputs": [],
   "source": [
    "# define label column\n",
    "y = agg_df['label'].astype(np.float32)"
   ],
   "metadata": {
    "collapsed": false,
    "pycharm": {
     "name": "#%%\n"
    }
   }
  },
  {
   "cell_type": "markdown",
   "source": [
    "## **PRE-PROCESSING**\n",
    "- clean data\n",
    "    - convert to lowercase\n",
    "    - expand contractions (handle exceptions)\n",
    "    - remove punctuation (keep hyphens)\n",
    "    - remove stop words *(optional)*\n",
    "    - adjust spacing as needed"
   ],
   "metadata": {
    "collapsed": false,
    "pycharm": {
     "name": "#%% md\n"
    }
   }
  },
  {
   "cell_type": "code",
   "execution_count": null,
   "outputs": [],
   "source": [
    "cleaned: DataFrame = preprocessor.clean_data(agg_df, remove_sw=True)\n",
    "agg_df.headline = cleaned\n",
    "cleaned.head()"
   ],
   "metadata": {
    "collapsed": false,
    "pycharm": {
     "name": "#%%\n"
    }
   }
  },
  {
   "cell_type": "code",
   "execution_count": null,
   "outputs": [],
   "source": [
    "# saved cleaned dataset\n",
    "# cleaned_data = cleaned.to_csv(DATASETS + 'cleaned_data.csv', encoding='utf-8')"
   ],
   "metadata": {
    "collapsed": false,
    "pycharm": {
     "name": "#%%\n"
    }
   }
  },
  {
   "cell_type": "markdown",
   "source": [
    "## Splitting the Dataset\n",
    "- split cleaned data into training and test sets"
   ],
   "metadata": {
    "collapsed": false,
    "pycharm": {
     "name": "#%% md\n"
    }
   }
  },
  {
   "cell_type": "code",
   "execution_count": null,
   "outputs": [],
   "source": [
    "train_data, test_data, y_tr, y_te = train_test_split(cleaned, y, test_size=0.2, random_state=3)\n",
    "y_tr = y_tr.astype(np.float32)\n",
    "y_te = y_te.astype(np.float32)"
   ],
   "metadata": {
    "collapsed": false,
    "pycharm": {
     "name": "#%%\n"
    }
   }
  },
  {
   "cell_type": "markdown",
   "source": [
    "### **ENCODING**\n",
    "- obtain doc-term matrix of corpus\n",
    "- obtain vocab list"
   ],
   "metadata": {
    "collapsed": false,
    "pycharm": {
     "name": "#%% md\n"
    }
   }
  },
  {
   "cell_type": "code",
   "execution_count": null,
   "outputs": [],
   "source": [
    "# X_train is a document-term matrix (sparse matrix)\n",
    "reload(encode)\n",
    "cv = CountVectorizer()\n",
    "cv.fit(train_data)\n",
    "vocab = cv.get_feature_names()\n",
    "X_tr = cv.transform(train_data)\n",
    "X_tr = X_tr.toarray()\n",
    "X_te = cv.transform(test_data)\n",
    "X_te = X_te.toarray()\n",
    "vocab, X_tr.shape, X_te.shape"
   ],
   "metadata": {
    "collapsed": false,
    "pycharm": {
     "name": "#%%\n"
    }
   }
  },
  {
   "cell_type": "markdown",
   "source": [
    "## Building & Training the Model"
   ],
   "metadata": {
    "collapsed": false,
    "pycharm": {
     "name": "#%% md\n"
    }
   }
  },
  {
   "cell_type": "code",
   "execution_count": null,
   "outputs": [],
   "source": [
    "@latexify.with_latex\n",
    "def relu(x):\n",
    "    if x >= 0:\n",
    "        return x\n",
    "    else:\n",
    "        return 0\n",
    "relu"
   ],
   "metadata": {
    "collapsed": false,
    "pycharm": {
     "name": "#%%\n"
    }
   }
  },
  {
   "cell_type": "code",
   "execution_count": null,
   "outputs": [],
   "source": [
    "# activation function\n",
    "@latexify.with_latex\n",
    "def sigmoid(x):\n",
    "    return 1 / (1 + e ** -x)\n",
    "sigmoid"
   ],
   "metadata": {
    "collapsed": false,
    "pycharm": {
     "name": "#%%\n"
    }
   }
  },
  {
   "cell_type": "code",
   "execution_count": null,
   "outputs": [],
   "source": [
    "model = Sequential()\n",
    "model.add(Dense(10, activation='relu', input_dim=X_tr.shape[1]))\n",
    "model.add(Dense(1, activation='sigmoid'))\n",
    "model.summary()\n",
    "model.compile(optimizer='adam', loss='binary_crossentropy', metrics=['accuracy'])"
   ],
   "metadata": {
    "collapsed": false,
    "pycharm": {
     "name": "#%%\n"
    }
   }
  },
  {
   "cell_type": "code",
   "execution_count": null,
   "outputs": [],
   "source": [
    "from keras.callbacks import EarlyStopping\n",
    "callback = EarlyStopping(monitor='val_accuracy', patience=5)\n",
    "\n",
    "# uncomment to train with early stopping\n",
    "# history = model.fit(X_tr, y_tr,\n",
    "#                     epochs=20,\n",
    "#                     verbose=True,\n",
    "#                     validation_data=(X_te, y_te),\n",
    "#                     batch_size=128,\n",
    "#                     callbacks=callback)\n",
    "\n",
    "history = model.fit(X_tr, y_tr,\n",
    "                    epochs=20,\n",
    "                    verbose=True,\n",
    "                    validation_data=(X_te, y_te),\n",
    "                    batch_size=128)\n",
    "\n",
    "grapher.plot_history(history)"
   ],
   "metadata": {
    "collapsed": false,
    "pycharm": {
     "name": "#%%\n"
    }
   }
  },
  {
   "cell_type": "code",
   "execution_count": null,
   "outputs": [],
   "source": [
    "loss, accuracy = model.evaluate(X_tr, y_tr, verbose=True)\n",
    "print(\"Training Accuracy: {:.4f}\".format(accuracy))"
   ],
   "metadata": {
    "collapsed": false,
    "pycharm": {
     "name": "#%%\n"
    }
   }
  },
  {
   "cell_type": "code",
   "execution_count": null,
   "outputs": [],
   "source": [
    "loss, accuracy = model.evaluate(X_te, y_te, verbose=True)\n",
    "print(\"Testing Accuracy:  {:.4f}\".format(accuracy))"
   ],
   "metadata": {
    "collapsed": false,
    "pycharm": {
     "name": "#%%\n"
    }
   }
  },
  {
   "cell_type": "code",
   "execution_count": null,
   "outputs": [],
   "source": [
    "# save model\n",
    "# model.save('Saved Models\\\\trained_agg')"
   ],
   "metadata": {
    "collapsed": false,
    "pycharm": {
     "name": "#%%\n"
    }
   }
  },
  {
   "cell_type": "code",
   "execution_count": null,
   "outputs": [],
   "source": [
    "# load model\n",
    "#trained_model = keras.models.load_model('Saved Models\\\\trained_2')"
   ],
   "metadata": {
    "collapsed": false,
    "pycharm": {
     "name": "#%%\n"
    }
   }
  },
  {
   "cell_type": "code",
   "execution_count": 94,
   "outputs": [],
   "source": [
    "def clickbait_classifier():\n",
    "    from_user = input()\n",
    "    doc_term_matrix = encode.to_doc_term_matrix(from_user, train_data=train_data)\n",
    "    pred = model.predict(doc_term_matrix, verbose=False)[0]\n",
    "    if pred >= 0.5:\n",
    "        print('\"{}\": CLICKBAIT!\\n'.format(from_user))\n",
    "    else:\n",
    "        print('\"{}\": Not clickbait.\\n'.format(from_user))\n",
    "    return pred"
   ],
   "metadata": {
    "collapsed": false,
    "pycharm": {
     "name": "#%%\n"
    }
   }
  },
  {
   "cell_type": "code",
   "execution_count": 95,
   "outputs": [
    {
     "name": "stdout",
     "output_type": "stream",
     "text": [
      "\"15 shocking life hacks that will leave you speechless\": CLICKBAIT!\n",
      "\n",
      "[0.99999994]\n"
     ]
    }
   ],
   "source": [
    "result = clickbait_classifier()\n",
    "print(result)"
   ],
   "metadata": {
    "collapsed": false,
    "pycharm": {
     "name": "#%%\n"
    }
   }
  },
  {
   "cell_type": "code",
   "execution_count": null,
   "outputs": [],
   "source": [],
   "metadata": {
    "collapsed": false,
    "pycharm": {
     "name": "#%%\n"
    }
   }
  }
 ],
 "metadata": {
  "kernelspec": {
   "display_name": "Python 3",
   "language": "python",
   "name": "python3"
  },
  "language_info": {
   "codemirror_mode": {
    "name": "ipython",
    "version": 2
   },
   "file_extension": ".py",
   "mimetype": "text/x-python",
   "name": "python",
   "nbconvert_exporter": "python",
   "pygments_lexer": "ipython2",
   "version": "2.7.6"
  }
 },
 "nbformat": 4,
 "nbformat_minor": 0
}