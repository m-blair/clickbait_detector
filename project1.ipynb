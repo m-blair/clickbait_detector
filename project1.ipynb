{
 "cells": [
  {
   "cell_type": "markdown",
   "source": [
    "# **CLICKBAIT CLASSIFIER**\n",
    "***\n",
    "\n",
    "[Dataset](https://www.kaggle.com/datasets/amananandrai/clickbait-dataset?select=clickbait_data.csv)"
   ],
   "metadata": {
    "collapsed": false,
    "pycharm": {
     "name": "#%% md\n"
    }
   }
  },
  {
   "cell_type": "code",
   "execution_count": 31,
   "metadata": {
    "collapsed": true,
    "pycharm": {
     "name": "#%%\n"
    }
   },
   "outputs": [],
   "source": [
    "import keras.layers\n",
    "import numpy as np\n",
    "import pandas as pd\n",
    "import matplotlib as plt\n",
    "\n",
    "from tensorflow.keras.models import Sequential, model_from_json\n",
    "from tensorflow.keras.layers import Dense, Embedding, GlobalAvgPool1D, Dense\n",
    "from tensorflow.keras.preprocessing.text import Tokenizer\n",
    "from tensorflow.keras.preprocessing.sequence import pad_sequences\n",
    "from keras.backend import clear_session\n",
    "\n",
    "from sklearn.feature_extraction.text import CountVectorizer, TfidfVectorizer, TfidfTransformer\n",
    "from sklearn.model_selection import train_test_split\n",
    "from sklearn.linear_model import LogisticRegression\n",
    "\n",
    "from numpy import asarray\n",
    "\n",
    "import nltk\n",
    "from nltk.tokenize import word_tokenize\n",
    "from nltk.corpus import stopwords\n",
    "import contractions\n",
    "\n",
    "\n",
    "from collections import Counter\n",
    "from importlib import reload\n",
    "import time\n",
    "import re\n",
    "import random\n",
    "import string\n",
    "from string import punctuation\n",
    "\n",
    "#local files\n",
    "import df_info\n",
    "import grapher\n",
    "import process_new\n",
    "\n"
   ]
  },
  {
   "cell_type": "code",
   "execution_count": 2,
   "outputs": [
    {
     "data": {
      "text/plain": "                                                headline  label\n0                                     Should I Get Bings      1\n1          Which TV Female Friend Group Do You Belong In      1\n2      The New \"Star Wars: The Force Awakens\" Trailer...      1\n3      This Vine Of New York On \"Celebrity Big Brothe...      1\n4      A Couple Did A Stunning Photo Shoot With Their...      1\n...                                                  ...    ...\n31995  To Make Female Hearts Flutter in Iraq, Throw a...      0\n31996  British Liberal Democrat Patsy Calton, 56, die...      0\n31997  Drone smartphone app to help heart attack vict...      0\n31998  Netanyahu Urges Pope Benedict, in Israel, to D...      0\n31999  Computer Makers Prepare to Stake Bigger Claim ...      0\n\n[32000 rows x 2 columns]",
      "text/html": "<div>\n<style scoped>\n    .dataframe tbody tr th:only-of-type {\n        vertical-align: middle;\n    }\n\n    .dataframe tbody tr th {\n        vertical-align: top;\n    }\n\n    .dataframe thead th {\n        text-align: right;\n    }\n</style>\n<table border=\"1\" class=\"dataframe\">\n  <thead>\n    <tr style=\"text-align: right;\">\n      <th></th>\n      <th>headline</th>\n      <th>label</th>\n    </tr>\n  </thead>\n  <tbody>\n    <tr>\n      <th>0</th>\n      <td>Should I Get Bings</td>\n      <td>1</td>\n    </tr>\n    <tr>\n      <th>1</th>\n      <td>Which TV Female Friend Group Do You Belong In</td>\n      <td>1</td>\n    </tr>\n    <tr>\n      <th>2</th>\n      <td>The New \"Star Wars: The Force Awakens\" Trailer...</td>\n      <td>1</td>\n    </tr>\n    <tr>\n      <th>3</th>\n      <td>This Vine Of New York On \"Celebrity Big Brothe...</td>\n      <td>1</td>\n    </tr>\n    <tr>\n      <th>4</th>\n      <td>A Couple Did A Stunning Photo Shoot With Their...</td>\n      <td>1</td>\n    </tr>\n    <tr>\n      <th>...</th>\n      <td>...</td>\n      <td>...</td>\n    </tr>\n    <tr>\n      <th>31995</th>\n      <td>To Make Female Hearts Flutter in Iraq, Throw a...</td>\n      <td>0</td>\n    </tr>\n    <tr>\n      <th>31996</th>\n      <td>British Liberal Democrat Patsy Calton, 56, die...</td>\n      <td>0</td>\n    </tr>\n    <tr>\n      <th>31997</th>\n      <td>Drone smartphone app to help heart attack vict...</td>\n      <td>0</td>\n    </tr>\n    <tr>\n      <th>31998</th>\n      <td>Netanyahu Urges Pope Benedict, in Israel, to D...</td>\n      <td>0</td>\n    </tr>\n    <tr>\n      <th>31999</th>\n      <td>Computer Makers Prepare to Stake Bigger Claim ...</td>\n      <td>0</td>\n    </tr>\n  </tbody>\n</table>\n<p>32000 rows × 2 columns</p>\n</div>"
     },
     "execution_count": 2,
     "metadata": {},
     "output_type": "execute_result"
    }
   ],
   "source": [
    "# load data into dataframe\n",
    "file_path = 'Datasets\\\\clickbait_data.csv'\n",
    "content = pd.read_csv(file_path)\n",
    "df = pd.DataFrame(content)\n",
    "df = df.rename(columns={'clickbait': 'label'})\n",
    "df"
   ],
   "metadata": {
    "collapsed": false,
    "pycharm": {
     "name": "#%%\n"
    }
   }
  },
  {
   "cell_type": "code",
   "execution_count": 3,
   "outputs": [
    {
     "data": {
      "text/plain": "0"
     },
     "execution_count": 3,
     "metadata": {},
     "output_type": "execute_result"
    }
   ],
   "source": [
    "# check for missing entries\n",
    "df.headline.isna().sum()"
   ],
   "metadata": {
    "collapsed": false,
    "pycharm": {
     "name": "#%%\n"
    }
   }
  },
  {
   "cell_type": "code",
   "execution_count": 4,
   "outputs": [
    {
     "data": {
      "text/plain": "32000"
     },
     "execution_count": 4,
     "metadata": {},
     "output_type": "execute_result"
    }
   ],
   "source": [
    "len(df)"
   ],
   "metadata": {
    "collapsed": false,
    "pycharm": {
     "name": "#%%\n"
    }
   }
  },
  {
   "cell_type": "code",
   "execution_count": 5,
   "outputs": [
    {
     "data": {
      "text/plain": "(16001, 15999)"
     },
     "execution_count": 5,
     "metadata": {},
     "output_type": "execute_result"
    }
   ],
   "source": [
    "# see df split\n",
    "df0, df1 = df_info.split_data(df, 'label')\n",
    "df0.shape[0], df1.shape[0]"
   ],
   "metadata": {
    "collapsed": false,
    "pycharm": {
     "name": "#%%\n"
    }
   }
  },
  {
   "cell_type": "markdown",
   "source": [
    "## **PRE-PROCESSING**\n",
    "- convert to lowercase\n",
    "- expand contractions (handle exceptions)\n",
    "- remove punctuation (keep hyphens)\n",
    "- remove stop words *(optional)*\n",
    "- adjust spacing as needed"
   ],
   "metadata": {
    "collapsed": false,
    "pycharm": {
     "name": "#%% md\n"
    }
   }
  },
  {
   "cell_type": "code",
   "execution_count": 6,
   "outputs": [],
   "source": [
    "reload(df_info)\n",
    "cleaned_data = df_info.clean_data(df)\n",
    "cleaned_clickbait = df_info.clean_data(df0)\n",
    "cleaned_non_clickbait = df_info.clean_data(df1)"
   ],
   "metadata": {
    "collapsed": false,
    "pycharm": {
     "name": "#%%\n"
    }
   }
  },
  {
   "cell_type": "code",
   "execution_count": 7,
   "outputs": [],
   "source": [
    "# test_sample = [cleaned[68], cleaned[25078], cleaned[25066], cleaned[65], cleaned[87]]\n",
    "# test_sample_indices = [68, 25078, 25066, 65, 87]\n",
    "# # cleaned"
   ],
   "metadata": {
    "collapsed": false,
    "pycharm": {
     "name": "#%%\n"
    }
   }
  },
  {
   "cell_type": "code",
   "execution_count": 8,
   "outputs": [
    {
     "data": {
      "text/plain": "0                                                get bings\n1                            tv female friend group belong\n2          new star wars force awakens trailer give chills\n3        vine new york celebrity big brother fucking pe...\n4        couple stunning photo shoot baby learning inop...\n                               ...                        \n31995           make female hearts flutter iraq throw shoe\n31996    british liberal democrat patsy calton 56 dies ...\n31997    drone smartphone app help heart attack victims...\n31998    netanyahu urges pope benedict israel denounce ...\n31999    computer makers prepare stake bigger claim phones\nName: headline, Length: 32000, dtype: object"
     },
     "execution_count": 8,
     "metadata": {},
     "output_type": "execute_result"
    }
   ],
   "source": [
    "cleaned_data"
   ],
   "metadata": {
    "collapsed": false,
    "pycharm": {
     "name": "#%%\n"
    }
   }
  },
  {
   "cell_type": "code",
   "execution_count": 9,
   "outputs": [
    {
     "data": {
      "text/plain": "0"
     },
     "execution_count": 9,
     "metadata": {},
     "output_type": "execute_result"
    }
   ],
   "source": [
    "cleaned_data.isna().sum()"
   ],
   "metadata": {
    "collapsed": false,
    "pycharm": {
     "name": "#%%\n"
    }
   }
  },
  {
   "cell_type": "code",
   "execution_count": 10,
   "outputs": [
    {
     "data": {
      "text/plain": "                                                headline  label\n0                                              get bings      1\n1                          tv female friend group belong      1\n2        new star wars force awakens trailer give chills      1\n3      vine new york celebrity big brother fucking pe...      1\n4      couple stunning photo shoot baby learning inop...      1\n...                                                  ...    ...\n31995         make female hearts flutter iraq throw shoe      0\n31996  british liberal democrat patsy calton 56 dies ...      0\n31997  drone smartphone app help heart attack victims...      0\n31998  netanyahu urges pope benedict israel denounce ...      0\n31999  computer makers prepare stake bigger claim phones      0\n\n[32000 rows x 2 columns]",
      "text/html": "<div>\n<style scoped>\n    .dataframe tbody tr th:only-of-type {\n        vertical-align: middle;\n    }\n\n    .dataframe tbody tr th {\n        vertical-align: top;\n    }\n\n    .dataframe thead th {\n        text-align: right;\n    }\n</style>\n<table border=\"1\" class=\"dataframe\">\n  <thead>\n    <tr style=\"text-align: right;\">\n      <th></th>\n      <th>headline</th>\n      <th>label</th>\n    </tr>\n  </thead>\n  <tbody>\n    <tr>\n      <th>0</th>\n      <td>get bings</td>\n      <td>1</td>\n    </tr>\n    <tr>\n      <th>1</th>\n      <td>tv female friend group belong</td>\n      <td>1</td>\n    </tr>\n    <tr>\n      <th>2</th>\n      <td>new star wars force awakens trailer give chills</td>\n      <td>1</td>\n    </tr>\n    <tr>\n      <th>3</th>\n      <td>vine new york celebrity big brother fucking pe...</td>\n      <td>1</td>\n    </tr>\n    <tr>\n      <th>4</th>\n      <td>couple stunning photo shoot baby learning inop...</td>\n      <td>1</td>\n    </tr>\n    <tr>\n      <th>...</th>\n      <td>...</td>\n      <td>...</td>\n    </tr>\n    <tr>\n      <th>31995</th>\n      <td>make female hearts flutter iraq throw shoe</td>\n      <td>0</td>\n    </tr>\n    <tr>\n      <th>31996</th>\n      <td>british liberal democrat patsy calton 56 dies ...</td>\n      <td>0</td>\n    </tr>\n    <tr>\n      <th>31997</th>\n      <td>drone smartphone app help heart attack victims...</td>\n      <td>0</td>\n    </tr>\n    <tr>\n      <th>31998</th>\n      <td>netanyahu urges pope benedict israel denounce ...</td>\n      <td>0</td>\n    </tr>\n    <tr>\n      <th>31999</th>\n      <td>computer makers prepare stake bigger claim phones</td>\n      <td>0</td>\n    </tr>\n  </tbody>\n</table>\n<p>32000 rows × 2 columns</p>\n</div>"
     },
     "execution_count": 10,
     "metadata": {},
     "output_type": "execute_result"
    }
   ],
   "source": [
    "df.headline = cleaned_data\n",
    "df"
   ],
   "metadata": {
    "collapsed": false,
    "pycharm": {
     "name": "#%%\n"
    }
   }
  },
  {
   "cell_type": "markdown",
   "source": [
    "## Splitting the Dataset\n",
    "- split cleaned data into thirds\n",
    "- tokenize data\n",
    "- get vocab_size\n",
    "- pad sequences"
   ],
   "metadata": {
    "collapsed": false,
    "pycharm": {
     "name": "#%% md\n"
    }
   }
  },
  {
   "cell_type": "code",
   "execution_count": 11,
   "outputs": [
    {
     "data": {
      "text/plain": "CountVectorizer()"
     },
     "execution_count": 11,
     "metadata": {},
     "output_type": "execute_result"
    }
   ],
   "source": [
    "vectorizer = CountVectorizer()\n",
    "vectorizer.fit(cleaned_data)\n",
    "# counts = DataFrame(list(vectorizer.vocabulary_.items()))\n",
    "# counts"
   ],
   "metadata": {
    "collapsed": false,
    "pycharm": {
     "name": "#%%\n"
    }
   }
  },
  {
   "cell_type": "code",
   "execution_count": 12,
   "outputs": [],
   "source": [
    "y = df.label.astype(np.float32)\n",
    "headlines_tr, headlines_te, y_tr, y_te = train_test_split(cleaned_data, y, test_size=0.3, random_state=3)"
   ],
   "metadata": {
    "collapsed": false,
    "pycharm": {
     "name": "#%%\n"
    }
   }
  },
  {
   "cell_type": "code",
   "execution_count": 13,
   "outputs": [
    {
     "data": {
      "text/plain": "<22400x19233 sparse matrix of type '<class 'numpy.int64'>'\n\twith 139529 stored elements in Compressed Sparse Row format>"
     },
     "execution_count": 13,
     "metadata": {},
     "output_type": "execute_result"
    }
   ],
   "source": [
    "vectorizer = CountVectorizer()\n",
    "vectorizer.fit(headlines_tr)\n",
    "X_tr = vectorizer.transform(headlines_tr)\n",
    "X_te = vectorizer.transform(headlines_te)\n",
    "X_tr"
   ],
   "metadata": {
    "collapsed": false,
    "pycharm": {
     "name": "#%%\n"
    }
   }
  },
  {
   "cell_type": "code",
   "execution_count": 14,
   "outputs": [
    {
     "name": "stdout",
     "output_type": "stream",
     "text": [
      "Accuracy: 0.9509375\n"
     ]
    }
   ],
   "source": [
    "classifier = LogisticRegression()\n",
    "classifier.fit(X_tr, y_tr)\n",
    "score = classifier.score(X_te, y_te)\n",
    "print(\"Accuracy:\", score)\n",
    "\n",
    "X_tr = X_tr.toarray()\n",
    "X_te = X_te.toarray()"
   ],
   "metadata": {
    "collapsed": false,
    "pycharm": {
     "name": "#%%\n"
    }
   }
  },
  {
   "cell_type": "code",
   "execution_count": 15,
   "outputs": [],
   "source": [
    "# get word counts from df0, df1\n",
    "# reload(df_info)\n",
    "#\n",
    "# counts = df_info.bow(pd.DataFrame(cleaned_data))\n",
    "# counts_cb = df_info.bow(pd.DataFrame(cleaned_clickbait))\n",
    "# counts_ncb = df_info.bow(pd.DataFrame(cleaned_non_clickbait))"
   ],
   "metadata": {
    "collapsed": false,
    "pycharm": {
     "name": "#%%\n"
    }
   }
  },
  {
   "cell_type": "code",
   "execution_count": 16,
   "outputs": [],
   "source": [
    "# counts.most_common()"
   ],
   "metadata": {
    "collapsed": false,
    "pycharm": {
     "name": "#%%\n"
    }
   }
  },
  {
   "cell_type": "code",
   "execution_count": 17,
   "outputs": [],
   "source": [
    "# cdf = pd.DataFrame.from_dict(counts, orient='index').reset_index(inplace=False)\n",
    "# cdf = cdf.sort_values(by=[0], ascending=False)[:10]\n",
    "# cdf = cdf[['index', 0]]\n",
    "# cdf = cdf.reset_index(inplace=False)\n",
    "# cdf"
   ],
   "metadata": {
    "collapsed": false,
    "pycharm": {
     "name": "#%%\n"
    }
   }
  },
  {
   "cell_type": "code",
   "execution_count": 18,
   "outputs": [],
   "source": [
    "# reload(df_info)\n",
    "# df_info.frequency_histogram(cdf, 'Most Common Words')"
   ],
   "metadata": {
    "collapsed": false,
    "pycharm": {
     "name": "#%%\n"
    }
   }
  },
  {
   "cell_type": "code",
   "execution_count": 19,
   "outputs": [],
   "source": [
    "# cb = df_info.counter_to_df(counts_cb)\n",
    "# ncb = df_info.counter_to_df(counts_ncb)\n",
    "# df_info.frequency_histogram(cb, 'Most Common Clickbait Words')\n",
    "# df_info.frequency_histogram(ncb, 'Most Common Non-Clickbait Words')"
   ],
   "metadata": {
    "collapsed": false,
    "pycharm": {
     "name": "#%%\n"
    }
   }
  },
  {
   "cell_type": "markdown",
   "source": [
    "## Building & Training the Model"
   ],
   "metadata": {
    "collapsed": false,
    "pycharm": {
     "name": "#%% md\n"
    }
   }
  },
  {
   "cell_type": "code",
   "execution_count": 20,
   "outputs": [
    {
     "name": "stdout",
     "output_type": "stream",
     "text": [
      "Model: \"sequential\"\n",
      "_________________________________________________________________\n",
      " Layer (type)                Output Shape              Param #   \n",
      "=================================================================\n",
      " dense (Dense)               (None, 10)                192340    \n",
      "                                                                 \n",
      " dense_1 (Dense)             (None, 1)                 11        \n",
      "                                                                 \n",
      "=================================================================\n",
      "Total params: 192,351\n",
      "Trainable params: 192,351\n",
      "Non-trainable params: 0\n",
      "_________________________________________________________________\n"
     ]
    }
   ],
   "source": [
    "input_dim = X_tr.shape[1]\n",
    "\n",
    "model = Sequential()\n",
    "model.add(Dense(10, activation='relu', input_dim=input_dim))\n",
    "model.add(Dense(1, activation='sigmoid'))\n",
    "model.summary()\n",
    "model.compile(optimizer='adam', loss='binary_crossentropy', metrics=['accuracy'])"
   ],
   "metadata": {
    "collapsed": false,
    "pycharm": {
     "name": "#%%\n"
    }
   }
  },
  {
   "cell_type": "code",
   "execution_count": 24,
   "outputs": [
    {
     "name": "stdout",
     "output_type": "stream",
     "text": [
      "Epoch 1/20\n",
      "88/88 [==============================] - 2s 21ms/step - loss: 0.2063 - accuracy: 0.9745 - val_loss: 0.1987 - val_accuracy: 0.9589\n",
      "Epoch 2/20\n",
      "88/88 [==============================] - 2s 20ms/step - loss: 0.1401 - accuracy: 0.9799 - val_loss: 0.1598 - val_accuracy: 0.9601\n",
      "Epoch 3/20\n",
      "88/88 [==============================] - 2s 20ms/step - loss: 0.1036 - accuracy: 0.9836 - val_loss: 0.1389 - val_accuracy: 0.9605\n",
      "Epoch 4/20\n",
      "88/88 [==============================] - 2s 20ms/step - loss: 0.0809 - accuracy: 0.9874 - val_loss: 0.1266 - val_accuracy: 0.9613\n",
      "Epoch 5/20\n",
      "88/88 [==============================] - 2s 21ms/step - loss: 0.0652 - accuracy: 0.9901 - val_loss: 0.1189 - val_accuracy: 0.9614\n",
      "Epoch 6/20\n",
      "88/88 [==============================] - 2s 20ms/step - loss: 0.0539 - accuracy: 0.9921 - val_loss: 0.1139 - val_accuracy: 0.9598\n",
      "Epoch 7/20\n",
      "88/88 [==============================] - 2s 21ms/step - loss: 0.0452 - accuracy: 0.9937 - val_loss: 0.1109 - val_accuracy: 0.9599\n",
      "Epoch 8/20\n",
      "88/88 [==============================] - 2s 21ms/step - loss: 0.0385 - accuracy: 0.9947 - val_loss: 0.1088 - val_accuracy: 0.9595\n",
      "Epoch 9/20\n",
      "88/88 [==============================] - 2s 21ms/step - loss: 0.0331 - accuracy: 0.9960 - val_loss: 0.1077 - val_accuracy: 0.9584\n",
      "Epoch 10/20\n",
      "88/88 [==============================] - 2s 21ms/step - loss: 0.0287 - accuracy: 0.9967 - val_loss: 0.1070 - val_accuracy: 0.9582\n"
     ]
    },
    {
     "data": {
      "text/plain": "<Figure size 864x360 with 2 Axes>",
      "image/png": "[encoded data removed]"
     },
     "metadata": {},
     "output_type": "display_data"
    }
   ],
   "source": [
    "from keras.callbacks import EarlyStopping\n",
    "callback = EarlyStopping(monitor='val_accuracy', patience=5)\n",
    "\n",
    "history = model.fit(X_tr, y_tr,\n",
    "                    epochs=20,\n",
    "                    verbose=True,\n",
    "                    validation_data=(X_te, y_te),\n",
    "                    batch_size=256,\n",
    "                    callbacks=callback)\n",
    "grapher.plot_history(history)"
   ],
   "metadata": {
    "collapsed": false,
    "pycharm": {
     "name": "#%%\n"
    }
   }
  },
  {
   "cell_type": "code",
   "execution_count": 22,
   "outputs": [
    {
     "name": "stdout",
     "output_type": "stream",
     "text": [
      "700/700 [==============================] - 2s 3ms/step - loss: 0.2495 - accuracy: 0.9761\n",
      "Training Accuracy: 0.9761\n"
     ]
    }
   ],
   "source": [
    "loss, accuracy = model.evaluate(X_tr, y_tr, verbose=True)\n",
    "print(\"Training Accuracy: {:.4f}\".format(accuracy))"
   ],
   "metadata": {
    "collapsed": false,
    "pycharm": {
     "name": "#%%\n"
    }
   }
  },
  {
   "cell_type": "code",
   "execution_count": 23,
   "outputs": [
    {
     "name": "stdout",
     "output_type": "stream",
     "text": [
      "300/300 [==============================] - 1s 2ms/step - loss: 0.2791 - accuracy: 0.9560\n",
      "Testing Accuracy:  0.9560\n"
     ]
    }
   ],
   "source": [
    "loss, accuracy = model.evaluate(X_te, y_te, verbose=True)\n",
    "print(\"Testing Accuracy:  {:.4f}\".format(accuracy))"
   ],
   "metadata": {
    "collapsed": false,
    "pycharm": {
     "name": "#%%\n"
    }
   }
  },
  {
   "cell_type": "code",
   "execution_count": 55,
   "outputs": [
    {
     "name": "stdout",
     "output_type": "stream",
     "text": [
      "INFO:tensorflow:Assets written to: Saved Models\\trained_1\\assets\n"
     ]
    }
   ],
   "source": [
    "model.save('Saved Models\\\\trained_1')"
   ],
   "metadata": {
    "collapsed": false,
    "pycharm": {
     "name": "#%%\n"
    }
   }
  },
  {
   "cell_type": "code",
   "execution_count": 56,
   "outputs": [],
   "source": [
    "trained_model = keras.models.load_model('Saved Models\\\\trained_1')"
   ],
   "metadata": {
    "collapsed": false,
    "pycharm": {
     "name": "#%%\n"
    }
   }
  },
  {
   "cell_type": "code",
   "execution_count": 70,
   "outputs": [
    {
     "data": {
      "text/plain": "0    25 things know shrek\nName: headline, dtype: object"
     },
     "execution_count": 70,
     "metadata": {},
     "output_type": "execute_result"
    }
   ],
   "source": [
    "\n",
    "from_user: str = input('Input a title to be predicted:\\n')\n",
    "dataframe = DataFrame()\n",
    "dataframe['headline'] = [from_user]\n",
    "dataframe = df_info.clean_data(dataframe)\n",
    "dataframe\n",
    "# model.predict()\n",
    "\n"
   ],
   "metadata": {
    "collapsed": false,
    "pycharm": {
     "name": "#%%\n"
    }
   }
  },
  {
   "cell_type": "code",
   "execution_count": 59,
   "outputs": [
    {
     "data": {
      "text/plain": "array([[0, 0, 0, ..., 0, 0, 0],\n       [0, 0, 0, ..., 0, 0, 0],\n       [0, 0, 0, ..., 0, 0, 0],\n       ...,\n       [0, 0, 0, ..., 0, 0, 0],\n       [0, 0, 0, ..., 0, 0, 0],\n       [0, 0, 0, ..., 0, 0, 0]], dtype=int64)"
     },
     "execution_count": 59,
     "metadata": {},
     "output_type": "execute_result"
    }
   ],
   "source": [],
   "metadata": {
    "collapsed": false,
    "pycharm": {
     "name": "#%%\n"
    }
   }
  },
  {
   "cell_type": "code",
   "execution_count": null,
   "outputs": [],
   "source": [],
   "metadata": {
    "collapsed": false,
    "pycharm": {
     "name": "#%%\n"
    }
   }
  }
 ],
 "metadata": {
  "kernelspec": {
   "display_name": "Python 3",
   "language": "python",
   "name": "python3"
  },
  "language_info": {
   "codemirror_mode": {
    "name": "ipython",
    "version": 2
   },
   "file_extension": ".py",
   "mimetype": "text/x-python",
   "name": "python",
   "nbconvert_exporter": "python",
   "pygments_lexer": "ipython2",
   "version": "2.7.6"
  }
 },
 "nbformat": 4,
 "nbformat_minor": 0
}